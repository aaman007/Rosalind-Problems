{
 "cells": [
  {
   "cell_type": "markdown",
   "metadata": {},
   "source": [
    "***Util Functions***"
   ]
  },
  {
   "cell_type": "code",
   "execution_count": null,
   "metadata": {},
   "outputs": [],
   "source": [
    "def hamming_distance(p, q):\n",
    "    cnt = 0\n",
    "    for i in range(len(p)):\n",
    "        if p[i] != q[i]:\n",
    "            cnt += 1\n",
    "    return cnt"
   ]
  },
  {
   "cell_type": "markdown",
   "metadata": {},
   "source": [
    "***BA2A***"
   ]
  },
  {
   "cell_type": "code",
   "execution_count": null,
   "metadata": {},
   "outputs": [],
   "source": [
    "import itertools\n",
    "\n",
    "def motif_enumeration(dna_list, k, d):\n",
    "    patterns = set()\n",
    "    dt = dict()\n",
    "    \n",
    "    for s in map(''.join, itertools.product('ACTG', repeat=k)):\n",
    "        patterns.add(s)\n",
    "    \n",
    "    for index, dna in enumerate(dna_list):\n",
    "        dt[index] = set()\n",
    "        for i in range(len(dna)-k+1):\n",
    "            dt[index].add(dna[i:i+k])\n",
    "    \n",
    "    result = set()\n",
    "    for pattern in patterns:\n",
    "        hasMatch = True\n",
    "        for i in range(len(dna_list)):\n",
    "            flag = False\n",
    "            for pat in dt[i]:\n",
    "                if hamming_distance(pat, pattern) <= d:\n",
    "                    flag = True\n",
    "                    break\n",
    "            if not flag:\n",
    "                hasMatch = False\n",
    "                break\n",
    "        if hasMatch:\n",
    "            result.add(pattern)\n",
    "    return result"
   ]
  },
  {
   "cell_type": "code",
   "execution_count": null,
   "metadata": {},
   "outputs": [],
   "source": [
    "dna_list = []\n",
    "k, d = [int(num) for num in input().split()]\n",
    "\n",
    "while(True):\n",
    "    dna = input()\n",
    "    if len(dna):\n",
    "        dna_list.append(dna)\n",
    "    else:\n",
    "        break\n",
    "\n",
    "for pat in motif_enumeration(dna_list, k, d):\n",
    "    print(pat, end=\" \")"
   ]
  },
  {
   "cell_type": "markdown",
   "metadata": {},
   "source": [
    "***BA1L***"
   ]
  },
  {
   "cell_type": "code",
   "execution_count": null,
   "metadata": {},
   "outputs": [],
   "source": [
    "def symbol_to_number(ch):\n",
    "    if ch == 'A':\n",
    "        return 0\n",
    "    elif ch == 'C':\n",
    "        return 1\n",
    "    elif ch == 'G':\n",
    "        return 2\n",
    "    return 3\n",
    "\n",
    "def pattern_to_number(dna):\n",
    "    if not len(dna):\n",
    "        return 0\n",
    "    return 4 * pattern_to_number(dna[0:-1]) + symbol_to_number(dna[-1])"
   ]
  },
  {
   "cell_type": "code",
   "execution_count": null,
   "metadata": {},
   "outputs": [],
   "source": [
    "dna = input()\n",
    "print(pattern_to_number(dna))"
   ]
  },
  {
   "cell_type": "markdown",
   "metadata": {},
   "source": [
    "***BA1M***"
   ]
  },
  {
   "cell_type": "code",
   "execution_count": null,
   "metadata": {},
   "outputs": [],
   "source": [
    "def index_to_symbol(idx):\n",
    "    if idx == 0:\n",
    "        return 'A'\n",
    "    elif idx == 1:\n",
    "        return 'C'\n",
    "    elif idx == 2:\n",
    "        return 'G'\n",
    "    return 'T'\n",
    "\n",
    "def number_to_pattern(index, k):\n",
    "    if k == 1:\n",
    "        return index_to_symbol(index)\n",
    "    \n",
    "    pref_index = int(index / 4)\n",
    "    r = index % 4\n",
    "    pref_pattern = number_to_pattern(pref_index, k-1)\n",
    "    \n",
    "    return pref_pattern + index_to_symbol(r)"
   ]
  },
  {
   "cell_type": "code",
   "execution_count": null,
   "metadata": {},
   "outputs": [],
   "source": [
    "index = int(input())\n",
    "k = int(input())\n",
    "print(number_to_pattern(index, k))"
   ]
  },
  {
   "cell_type": "markdown",
   "metadata": {},
   "source": [
    "***BA2H***"
   ]
  },
  {
   "cell_type": "code",
   "execution_count": null,
   "metadata": {},
   "outputs": [],
   "source": [
    "def distance_between_pattern_and_string(dna_list, pattern):\n",
    "    k = len(pattern)\n",
    "    distance = 0\n",
    "    \n",
    "    for dna in dna_list:\n",
    "        kmers = [dna[i:i+k] for i in range(len(dna)-k+1)]\n",
    "        ham_distance = 1e20\n",
    "        \n",
    "        for kmer in kmers:\n",
    "            ham_distance = min(ham_distance, hamming_distance(kmer, pattern))\n",
    "        \n",
    "        distance += ham_distance\n",
    "    \n",
    "    return distance"
   ]
  },
  {
   "cell_type": "code",
   "execution_count": null,
   "metadata": {},
   "outputs": [],
   "source": [
    "pattern = input()\n",
    "dna_list = [dna for dna in input().split()]\n",
    "\n",
    "print(distance_between_pattern_and_string(dna_list, pattern))"
   ]
  },
  {
   "cell_type": "markdown",
   "metadata": {},
   "source": [
    "***BA2B***"
   ]
  },
  {
   "cell_type": "code",
   "execution_count": null,
   "metadata": {},
   "outputs": [],
   "source": [
    "def median_string(dna_list, k):\n",
    "    distance = (k+1)*len(dna_list)\n",
    "    median = \"\"\n",
    "\n",
    "    for i in range(4**k):\n",
    "        pattern = number_to_pattern(i, k)\n",
    "        z = distance_between_pattern_and_string(dna_list, pattern)\n",
    "        \n",
    "        if z < distance:\n",
    "            distance = z\n",
    "            median = pattern\n",
    "            \n",
    "    return median"
   ]
  },
  {
   "cell_type": "code",
   "execution_count": null,
   "metadata": {
    "scrolled": true
   },
   "outputs": [],
   "source": [
    "k = int(input())\n",
    "dna_list = []\n",
    "\n",
    "while (True):\n",
    "    dna = input()\n",
    "    if not len(dna):\n",
    "        break\n",
    "    dna_list.append(dna)\n",
    "\n",
    "print(median_string(dna_list, k))"
   ]
  },
  {
   "cell_type": "code",
   "execution_count": null,
   "metadata": {},
   "outputs": [],
   "source": []
  }
 ],
 "metadata": {
  "kernelspec": {
   "display_name": "Python 3",
   "language": "python",
   "name": "python3"
  },
  "language_info": {
   "codemirror_mode": {
    "name": "ipython",
    "version": 3
   },
   "file_extension": ".py",
   "mimetype": "text/x-python",
   "name": "python",
   "nbconvert_exporter": "python",
   "pygments_lexer": "ipython3",
   "version": "3.7.6"
  }
 },
 "nbformat": 4,
 "nbformat_minor": 4
}
